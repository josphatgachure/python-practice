{
 "cells": [
  {
   "cell_type": "code",
   "execution_count": 15,
   "id": "cfc1c17c",
   "metadata": {},
   "outputs": [
    {
     "name": "stdout",
     "output_type": "stream",
     "text": [
      "Raj Mahal\n"
     ]
    }
   ],
   "source": [
    "#string indexing and slicing\n",
    "val = \"Hello world\"\n",
    "val[4]\n",
    "val[5]\n",
    "val[-7]\n",
    "#slicing\n",
    "val[2:8]\n",
    "val[-8:-2]\n",
    "val[0:9:3]\n",
    "\n",
    "#string are inmutable\n",
    "val1= \"Taj Mahal\"\n",
    "\n",
    "#val1[0]=\"R\" wrong\n",
    "val2= \"R\" + val1[1:]\n",
    "print(val2)\n",
    " \n",
    "    \n"
   ]
  },
  {
   "cell_type": "code",
   "execution_count": 18,
   "id": "4c293254",
   "metadata": {},
   "outputs": [
    {
     "data": {
      "text/plain": [
       "['TH', 's ', 's a beaur', 'ful day']"
      ]
     },
     "execution_count": 18,
     "metadata": {},
     "output_type": "execute_result"
    }
   ],
   "source": [
    "#methods\n",
    "d= \"THis is a beauriful day\"\n",
    "d.upper()\n",
    "d.split()\n",
    "d.split('i')"
   ]
  },
  {
   "cell_type": "code",
   "execution_count": 23,
   "id": "2bab24d5",
   "metadata": {},
   "outputs": [
    {
     "name": "stdout",
     "output_type": "stream",
     "text": [
      "This is a cat\n",
      "this is a cat furry Little\n",
      "this is a furry Little cat\n"
     ]
    }
   ],
   "source": [
    "#interpolation by format method\n",
    "a=\"cat\"\n",
    "print(\"This is a {}\".format(a))\n",
    "print(\"this is a {} {} {}\".format(\"cat\",\"furry\",\"Little\"))\n",
    "\n",
    "print(\"this is a {1} {2} {0}\".format(\"cat\",\"furry\",\"Little\"))"
   ]
  },
  {
   "cell_type": "code",
   "execution_count": 28,
   "id": "ef4c6f65",
   "metadata": {},
   "outputs": [
    {
     "name": "stdout",
     "output_type": "stream",
     "text": [
      "This is a cat\n"
     ]
    }
   ],
   "source": [
    "ans = 22/13\n",
    "#print('the answer is {a:1.3f}'.format(a=ans))\n",
    "#fstring\n",
    "c =\"cat\"\n",
    "print(f\"This is a {c}\")\n"
   ]
  },
  {
   "cell_type": "code",
   "execution_count": 38,
   "id": "09bbd857",
   "metadata": {},
   "outputs": [
    {
     "name": "stdout",
     "output_type": "stream",
     "text": [
      "[2, 'Air', ['last str']]\n"
     ]
    },
    {
     "data": {
      "text/plain": [
       "[0.692, [2, 'Air', ['last str']]]"
      ]
     },
     "execution_count": 38,
     "metadata": {},
     "output_type": "execute_result"
    }
   ],
   "source": [
    "#List\n",
    "list1 = [\"cat\",23,0.692,[2,\"Air\",[\"last str\"]]]\n",
    "print(list1[3])\n",
    "list1[3][1]\n",
    "list1[3][2][0]\n",
    "#slicing\n",
    "\n",
    "list1[1:]\n",
    "list1[-2:]"
   ]
  },
  {
   "cell_type": "code",
   "execution_count": 42,
   "id": "f6deaf1b",
   "metadata": {},
   "outputs": [
    {
     "data": {
      "text/plain": [
       "'b'"
      ]
     },
     "execution_count": 42,
     "metadata": {},
     "output_type": "execute_result"
    }
   ],
   "source": [
    "#for dictionaries,we call the keys\n",
    "dict1={\"Name\":\"Parv\",\"Age\":19,\"list\":[\"a\",3,\"b\"]}\n",
    "dict1[\"list\"]\n",
    "dict1[\"Age\"]\n",
    "dict1[\"list\"][2]"
   ]
  },
  {
   "cell_type": "code",
   "execution_count": 50,
   "id": "3f6cb4bc",
   "metadata": {},
   "outputs": [
    {
     "data": {
      "text/plain": [
       "'olleH'"
      ]
     },
     "execution_count": 50,
     "metadata": {},
     "output_type": "execute_result"
    }
   ],
   "source": [
    "s =\"Hello\"\n",
    "s[::-1]"
   ]
  },
  {
   "cell_type": "code",
   "execution_count": 60,
   "id": "89a05f9b",
   "metadata": {},
   "outputs": [
    {
     "name": "stdout",
     "output_type": "stream",
     "text": [
      "starting\n",
      "s\n",
      "sentense\n"
     ]
    }
   ],
   "source": [
    "st = \"print only the words starting with s in this sentense\"\n",
    "x=st.split()\n",
    "for i in x:\n",
    "    if i[0] == \"s\":\n",
    "        print(i)"
   ]
  },
  {
   "cell_type": "code",
   "execution_count": 66,
   "id": "6e8e3999",
   "metadata": {},
   "outputs": [
    {
     "name": "stdout",
     "output_type": "stream",
     "text": [
      "[3, 6, 9, 12, 15, 18, 21, 24, 27, 30, 33, 36, 39, 42, 45, 48]\n"
     ]
    }
   ],
   "source": [
    "list1 = []\n",
    "for x in range(1,51):\n",
    "    if x%3 ==0:\n",
    "        list1.append(x)\n",
    "print(list1)\n",
    "\n",
    "#or thru list comprehension\n",
    "list_1 =[x for x in range(1,51)  if x%3==0]"
   ]
  },
  {
   "cell_type": "code",
   "execution_count": 78,
   "id": "1850d053",
   "metadata": {},
   "outputs": [
    {
     "name": "stdout",
     "output_type": "stream",
     "text": [
      "word\n",
      "in\n",
      "this\n",
      "sentense\n",
      "that\n",
      "an\n",
      "even\n",
      "number\n",
      "of\n"
     ]
    }
   ],
   "source": [
    "line = \"Print every word in this sentense that has an even number of letters\"\n",
    "splited= line.split()\n",
    "for x in splited:\n",
    "    if len(x)%2==0:\n",
    "        print(x)\n",
    "        \n"
   ]
  },
  {
   "cell_type": "code",
   "execution_count": 83,
   "id": "ba68f01d",
   "metadata": {},
   "outputs": [
    {
     "name": "stdout",
     "output_type": "stream",
     "text": [
      "3 Fizz\n",
      "5 Buzz\n",
      "6 Fizz\n",
      "9 Fizz\n",
      "10 Buzz\n",
      "12 Fizz\n",
      "15 FizzBuzz\n",
      "18 Fizz\n",
      "20 Buzz\n",
      "21 Fizz\n",
      "24 Fizz\n",
      "25 Buzz\n",
      "27 Fizz\n",
      "30 FizzBuzz\n",
      "33 Fizz\n",
      "35 Buzz\n",
      "36 Fizz\n",
      "39 Fizz\n",
      "40 Buzz\n",
      "42 Fizz\n",
      "45 FizzBuzz\n",
      "48 Fizz\n",
      "50 Buzz\n",
      "51 Fizz\n",
      "54 Fizz\n",
      "55 Buzz\n",
      "57 Fizz\n",
      "60 FizzBuzz\n",
      "63 Fizz\n",
      "65 Buzz\n",
      "66 Fizz\n",
      "69 Fizz\n",
      "70 Buzz\n",
      "72 Fizz\n",
      "75 FizzBuzz\n",
      "78 Fizz\n",
      "80 Buzz\n",
      "81 Fizz\n",
      "84 Fizz\n",
      "85 Buzz\n",
      "87 Fizz\n",
      "90 FizzBuzz\n",
      "93 Fizz\n",
      "95 Buzz\n",
      "96 Fizz\n",
      "99 Fizz\n",
      "100 Buzz\n"
     ]
    }
   ],
   "source": [
    "#program that print integers from 1 to 100,\n",
    "for x in range (1,101):\n",
    "    if x%3==0 and x%5==0:\n",
    "        print(x,\"FizzBuzz\")\n",
    "    elif  x%3==0:\n",
    "            print(x,\"Fizz\")\n",
    "    elif   x%5==0:\n",
    "            \n",
    "            print(x,\"Buzz\")"
   ]
  },
  {
   "cell_type": "code",
   "execution_count": 87,
   "id": "6e7d14c3",
   "metadata": {},
   "outputs": [
    {
     "name": "stdout",
     "output_type": "stream",
     "text": [
      "1\n",
      "2\n",
      "fizz\n",
      "4\n",
      "Buzz\n",
      "fizz\n",
      "7\n",
      "8\n",
      "fizz\n",
      "Buzz\n",
      "11\n",
      "fizz\n",
      "13\n",
      "14\n",
      "fizzBuzz\n",
      "16\n",
      "17\n",
      "fizz\n",
      "19\n",
      "Buzz\n",
      "fizz\n",
      "22\n",
      "23\n",
      "fizz\n",
      "Buzz\n",
      "26\n",
      "fizz\n",
      "28\n",
      "29\n",
      "fizzBuzz\n",
      "31\n",
      "32\n",
      "fizz\n",
      "34\n",
      "Buzz\n",
      "fizz\n",
      "37\n",
      "38\n",
      "fizz\n",
      "Buzz\n",
      "41\n",
      "fizz\n",
      "43\n",
      "44\n",
      "fizzBuzz\n",
      "46\n",
      "47\n",
      "fizz\n",
      "49\n",
      "Buzz\n",
      "fizz\n",
      "52\n",
      "53\n",
      "fizz\n",
      "Buzz\n",
      "56\n",
      "fizz\n",
      "58\n",
      "59\n",
      "fizzBuzz\n",
      "61\n",
      "62\n",
      "fizz\n",
      "64\n",
      "Buzz\n",
      "fizz\n",
      "67\n",
      "68\n",
      "fizz\n",
      "Buzz\n",
      "71\n",
      "fizz\n",
      "73\n",
      "74\n",
      "fizzBuzz\n",
      "76\n",
      "77\n",
      "fizz\n",
      "79\n",
      "Buzz\n",
      "fizz\n",
      "82\n",
      "83\n",
      "fizz\n",
      "Buzz\n",
      "86\n",
      "fizz\n",
      "88\n",
      "89\n",
      "fizzBuzz\n",
      "91\n",
      "92\n",
      "fizz\n",
      "94\n",
      "Buzz\n",
      "fizz\n",
      "97\n",
      "98\n",
      "fizz\n",
      "Buzz\n",
      "101\n"
     ]
    }
   ],
   "source": [
    "#or\n",
    "a = 0\n",
    "while a<=100:\n",
    "    a+=1\n",
    "    results =\"\"\n",
    "    if a%3==0:\n",
    "        results =\"fizz\"\n",
    "    if a%5==0:\n",
    "        results = results + \"Buzz\"\n",
    "    if a%3 !=0 and a%5!=0:\n",
    "        results = a\n",
    "    print(results)"
   ]
  },
  {
   "cell_type": "code",
   "execution_count": 90,
   "id": "22c6e844",
   "metadata": {},
   "outputs": [
    {
     "data": {
      "text/plain": [
       "['U',\n",
       " 'l',\n",
       " 'c',\n",
       " 't',\n",
       " 'c',\n",
       " 'a',\n",
       " 'l',\n",
       " 'o',\n",
       " 't',\n",
       " 'f',\n",
       " 'l',\n",
       " 'o',\n",
       " 'e',\n",
       " 'w',\n",
       " 'i',\n",
       " 't',\n",
       " 's']"
      ]
     },
     "execution_count": 90,
     "metadata": {},
     "output_type": "execute_result"
    }
   ],
   "source": [
    "st =\" Use list comprehention to create a list of the first leter of every word in this string\"\n",
    "splited = st.split()\n",
    "lis =[x[0] for x in splited]\n",
    "lis"
   ]
  },
  {
   "cell_type": "code",
   "execution_count": null,
   "id": "bed9d127",
   "metadata": {},
   "outputs": [],
   "source": []
  }
 ],
 "metadata": {
  "kernelspec": {
   "display_name": "Python 3 (ipykernel)",
   "language": "python",
   "name": "python3"
  },
  "language_info": {
   "codemirror_mode": {
    "name": "ipython",
    "version": 3
   },
   "file_extension": ".py",
   "mimetype": "text/x-python",
   "name": "python",
   "nbconvert_exporter": "python",
   "pygments_lexer": "ipython3",
   "version": "3.9.7"
  }
 },
 "nbformat": 4,
 "nbformat_minor": 5
}
