{
 "cells": [
  {
   "cell_type": "code",
   "execution_count": 2,
   "id": "ceb95818",
   "metadata": {},
   "outputs": [],
   "source": [
    "def words(word):\n",
    "    list_1= word.split()\n",
    "    if list_1[0][0]==list_1[-1][0]:\n",
    "        return True\n",
    "    else:\n",
    "        return False"
   ]
  },
  {
   "cell_type": "code",
   "execution_count": 3,
   "id": "6f84bc41",
   "metadata": {},
   "outputs": [
    {
     "data": {
      "text/plain": [
       "True"
      ]
     },
     "execution_count": 3,
     "metadata": {},
     "output_type": "execute_result"
    }
   ],
   "source": [
    "words(\" Nathan James \")\n",
    "words(\"Nathan Nanes\")"
   ]
  },
  {
   "cell_type": "code",
   "execution_count": 1,
   "id": "b9f0f52c",
   "metadata": {},
   "outputs": [],
   "source": [
    "def sum_1(*mult):\n",
    "    return sum(*mult)\n"
   ]
  },
  {
   "cell_type": "code",
   "execution_count": 2,
   "id": "1ee69d7b",
   "metadata": {},
   "outputs": [
    {
     "data": {
      "text/plain": [
       "150"
      ]
     },
     "execution_count": 2,
     "metadata": {},
     "output_type": "execute_result"
    }
   ],
   "source": [
    "sum_1([10,20,30,40,50])"
   ]
  },
  {
   "cell_type": "code",
   "execution_count": 3,
   "id": "4c5bfd39",
   "metadata": {},
   "outputs": [],
   "source": [
    "def fruit(**kwargs):\n",
    "    print(\"my favourite food is: {}\".format(kwargs[\"food\"]))"
   ]
  },
  {
   "cell_type": "code",
   "execution_count": 4,
   "id": "a668a647",
   "metadata": {},
   "outputs": [
    {
     "name": "stdout",
     "output_type": "stream",
     "text": [
      "my favourite food is: cake\n"
     ]
    }
   ],
   "source": [
    "fruit(food=\"cake\",fruit=\"banana\")"
   ]
  },
  {
   "cell_type": "code",
   "execution_count": 22,
   "id": "916c0b9e",
   "metadata": {},
   "outputs": [],
   "source": [
    "def combination(*args,**kwargs):\n",
    "    a=sum(args)\n",
    "    print(\"i like {} types of different {}\".format(a,kwargs[\"drinks\"]))"
   ]
  },
  {
   "cell_type": "code",
   "execution_count": 23,
   "id": "a4552f91",
   "metadata": {},
   "outputs": [
    {
     "name": "stdout",
     "output_type": "stream",
     "text": [
      "i like 15 types of different delmonte\n"
     ]
    }
   ],
   "source": [
    "combination(1,2,3,4,5,food=\"cakes\",fruits=\"apples\",drinks=\"delmonte\")"
   ]
  },
  {
   "cell_type": "code",
   "execution_count": 31,
   "id": "de78c360",
   "metadata": {},
   "outputs": [
    {
     "data": {
      "text/plain": [
       "<map at 0x205e7764d90>"
      ]
     },
     "execution_count": 31,
     "metadata": {},
     "output_type": "execute_result"
    }
   ],
   "source": [
    "#lambda expressions, functions that can be used once.\n",
    "\n",
    "def squares(a):\n",
    "    return a**2\n",
    "    vals= [1,2,3,4,5,6,7,8]\n",
    "map(squares,vals)\n"
   ]
  },
  {
   "cell_type": "code",
   "execution_count": 33,
   "id": "72150048",
   "metadata": {},
   "outputs": [
    {
     "name": "stdout",
     "output_type": "stream",
     "text": [
      "1\n",
      "4\n",
      "9\n",
      "16\n",
      "25\n",
      "36\n",
      "49\n",
      "64\n"
     ]
    }
   ],
   "source": [
    "for x in map(squares,vals):\n",
    "    print(x)\n"
   ]
  },
  {
   "cell_type": "code",
   "execution_count": 35,
   "id": "01df21fc",
   "metadata": {},
   "outputs": [
    {
     "data": {
      "text/plain": [
       "[1, 4, 9, 16, 25, 36, 49, 64]"
      ]
     },
     "execution_count": 35,
     "metadata": {},
     "output_type": "execute_result"
    }
   ],
   "source": [
    "    list(map(squares,vals))"
   ]
  },
  {
   "cell_type": "code",
   "execution_count": 14,
   "id": "18a5515a",
   "metadata": {},
   "outputs": [
    {
     "name": "stdout",
     "output_type": "stream",
     "text": [
      "car\n",
      "Table\n",
      "chair\n"
     ]
    }
   ],
   "source": [
    "price =[(\"car\",200),(\"Table\",500),(\"chair\",100)]# function and tuples\n",
    "for obj,value in price:\n",
    "    print(obj)"
   ]
  },
  {
   "cell_type": "code",
   "execution_count": 16,
   "id": "479d0892",
   "metadata": {},
   "outputs": [
    {
     "data": {
      "text/plain": [
       "('sam', 80)"
      ]
     },
     "execution_count": 16,
     "metadata": {},
     "output_type": "execute_result"
    }
   ],
   "source": [
    "work_hours=[(\"sam\",80),(\"tony\",56),(\"jack\",72)]\n",
    "def max_work(work_hours):\n",
    "    max_1=0\n",
    "    employee =\"\"\n",
    "    \n",
    "    for x,y in work_hours:\n",
    "        if y>max_1:\n",
    "            max_1 =y\n",
    "            employee= x\n",
    "            \n",
    "    return (employee,max_1)\n",
    "max_work(work_hours)\n",
    "    "
   ]
  },
  {
   "cell_type": "markdown",
   "id": "ee4d41f4",
   "metadata": {},
   "source": [
    "Exceptions and error handling"
   ]
  },
  {
   "cell_type": "code",
   "execution_count": 43,
   "id": "6abf0bbb",
   "metadata": {},
   "outputs": [],
   "source": [
    "def take_input():\n",
    "    try:\n",
    "        results = int(input('Enter a number here  '))\n",
    "    except ValueError:\n",
    "        print(\"This is a value error\")\n",
    "        print(\"please try again\")\n",
    "    else:\n",
    "        print(\"Thank you\")\n",
    "        print(\"your response has been acceptes\")\n",
    "        print(results)\n",
    "    finally:\n",
    "        print(\"I am always executed\")\n",
    "        #mostly coders do no write finally part"
   ]
  },
  {
   "cell_type": "code",
   "execution_count": 44,
   "id": "585b9ba2",
   "metadata": {},
   "outputs": [
    {
     "name": "stdout",
     "output_type": "stream",
     "text": [
      "Enter a number here  24\n",
      "Thank you\n",
      "your response has been acceptes\n",
      "24\n",
      "I am always executed\n"
     ]
    }
   ],
   "source": [
    "take_input()"
   ]
  },
  {
   "cell_type": "markdown",
   "id": "780a096a",
   "metadata": {},
   "source": [
    "break and continue"
   ]
  },
  {
   "cell_type": "code",
   "execution_count": null,
   "id": "1b6a27a3",
   "metadata": {},
   "outputs": [],
   "source": [
    "def take_input():\n",
    "    while True:\n",
    "         try:\n",
    "                results = int(input('Enter a number here  '))\n",
    "        except ValueError:\n",
    "            print(\"This is a value error\")\n",
    "            print(\"please try again\")\n",
    "        continue #this tells the code incase there is an error,start execution again until they enter a valid no\n",
    "        \n",
    "        else:\n",
    "            print(\"Thank you\")\n",
    "            print(\"your response has been acceptes\")\n",
    "            print(results)\n",
    "        finally:\n",
    "            print(\"I am always executed\")"
   ]
  },
  {
   "cell_type": "code",
   "execution_count": 48,
   "id": "f28b5ab0",
   "metadata": {},
   "outputs": [
    {
     "name": "stdout",
     "output_type": "stream",
     "text": [
      "2.5\n"
     ]
    }
   ],
   "source": [
    "#Assignment\n",
    "\n",
    "''''x=5\n",
    "y=0\n",
    "z= x/y\n",
    "zerodivisionerror'''\n",
    "x=5\n",
    "y=2\n",
    "try:\n",
    "    z= x/y\n",
    "except ZeroDivisionError:\n",
    "    print('cannot divide a number by zero')\n",
    "else:\n",
    "    print(z)\n"
   ]
  },
  {
   "cell_type": "code",
   "execution_count": null,
   "id": "c751d82a",
   "metadata": {},
   "outputs": [],
   "source": [
    "#function that asks for integer and print its square\n",
    "\n",
    "def squares():\n",
    "    while True:\n",
    "        try:\n",
    "            a = int(input(\"Enter any number: \"))\n",
    "        except ValueError:\n",
    "            print(\"Please enter an integer!\")\n",
    "            continue\n",
    "        else:\n",
    "            break\n",
    "            return a**2\n",
    "squares()"
   ]
  },
  {
   "cell_type": "code",
   "execution_count": null,
   "id": "a87a594f",
   "metadata": {},
   "outputs": [],
   "source": []
  },
  {
   "cell_type": "code",
   "execution_count": null,
   "id": "0442ffde",
   "metadata": {},
   "outputs": [],
   "source": [
    "#new \n",
    "def split(a):\n",
    "    if len(a)%2==0:\n",
    "        return \"Even\"\n",
    "    else:\n",
    "        return a[0]"
   ]
  },
  {
   "cell_type": "code",
   "execution_count": 37,
   "id": "b5ef8f8e",
   "metadata": {},
   "outputs": [
    {
     "data": {
      "text/plain": [
       "['Even', 'G', 'B', 'Even', 'Even']"
      ]
     },
     "execution_count": 37,
     "metadata": {},
     "output_type": "execute_result"
    }
   ],
   "source": [
    "val_1 = [\"doom\",\"Groom\",\"Block\",\"Same\",\"Maloba\"]\n",
    "list(map(split,val_1))"
   ]
  },
  {
   "cell_type": "code",
   "execution_count": 38,
   "id": "d856f5f1",
   "metadata": {},
   "outputs": [],
   "source": [
    "#filter function\n",
    "def even(a):\n",
    "    return a%2==0\n",
    "    "
   ]
  },
  {
   "cell_type": "code",
   "execution_count": 39,
   "id": "fd0b28f7",
   "metadata": {},
   "outputs": [
    {
     "data": {
      "text/plain": [
       "True"
      ]
     },
     "execution_count": 39,
     "metadata": {},
     "output_type": "execute_result"
    }
   ],
   "source": [
    "even(2)"
   ]
  },
  {
   "cell_type": "code",
   "execution_count": 40,
   "id": "eb03f1c2",
   "metadata": {},
   "outputs": [
    {
     "data": {
      "text/plain": [
       "[2, 4, 6, 8]"
      ]
     },
     "execution_count": 40,
     "metadata": {},
     "output_type": "execute_result"
    }
   ],
   "source": [
    "values = [1,2,3,4,5,6,7,8]\n",
    "list(filter(even,values))"
   ]
  },
  {
   "cell_type": "code",
   "execution_count": 41,
   "id": "bfe79c26",
   "metadata": {},
   "outputs": [
    {
     "data": {
      "text/plain": [
       "[False, True, False, True, False, True, False, True]"
      ]
     },
     "execution_count": 41,
     "metadata": {},
     "output_type": "execute_result"
    }
   ],
   "source": [
    "list(map(even,values))"
   ]
  },
  {
   "cell_type": "code",
   "execution_count": 42,
   "id": "063d7b91",
   "metadata": {},
   "outputs": [
    {
     "data": {
      "text/plain": [
       "[1, 4, 9, 16, 25, 36, 49, 64, 81]"
      ]
     },
     "execution_count": 42,
     "metadata": {},
     "output_type": "execute_result"
    }
   ],
   "source": [
    "#lambda functions are used temporarily,once\n",
    "\"\"\"\"def squares(a):\n",
    "    return a**2\"\"\"\n",
    "#above is the same as\n",
    "nums= [1,2,3,4,5,6,7,8,9]\n",
    "\n",
    "list(map(lambda a:a**2,nums))"
   ]
  },
  {
   "cell_type": "code",
   "execution_count": 43,
   "id": "34b43008",
   "metadata": {},
   "outputs": [
    {
     "data": {
      "text/plain": [
       "[2, 4, 6, 8, 10, 12, 14]"
      ]
     },
     "execution_count": 43,
     "metadata": {},
     "output_type": "execute_result"
    }
   ],
   "source": [
    "excel = lambda a:a%2==0\n",
    "numbers =[1,2,3,4,5,6,7,8,9,10,12,14]\n",
    "list(filter(excel,numbers))"
   ]
  },
  {
   "cell_type": "code",
   "execution_count": 12,
   "id": "66cd7646",
   "metadata": {},
   "outputs": [],
   "source": [
    "def even_list(list_1):\n",
    "    listi=[]\n",
    "    for x in list_1:\n",
    "        if x%2==0:\n",
    "            listi.append(x)\n",
    "    return listi #the return satatement is very key  "
   ]
  },
  {
   "cell_type": "code",
   "execution_count": 13,
   "id": "0709af4f",
   "metadata": {},
   "outputs": [
    {
     "data": {
      "text/plain": [
       "[2, 4, 6, 8]"
      ]
     },
     "execution_count": 13,
     "metadata": {},
     "output_type": "execute_result"
    }
   ],
   "source": [
    "even_list([1,2,3,4,5,6,7,8])"
   ]
  },
  {
   "cell_type": "markdown",
   "id": "7f3374fc",
   "metadata": {},
   "source": [
    "# function continuation"
   ]
  },
  {
   "cell_type": "code",
   "execution_count": 3,
   "id": "9f57c19b",
   "metadata": {},
   "outputs": [
    {
     "name": "stdout",
     "output_type": "stream",
     "text": [
      "28\n"
     ]
    },
    {
     "data": {
      "text/plain": [
       "28"
      ]
     },
     "execution_count": 3,
     "metadata": {},
     "output_type": "execute_result"
    }
   ],
   "source": [
    "def calculator(a,b):\n",
    "    add = a+b\n",
    "    print(add)\n",
    "    return add\n",
    "calculator(5,23)\n"
   ]
  },
  {
   "cell_type": "code",
   "execution_count": 11,
   "id": "33b08e8d",
   "metadata": {},
   "outputs": [
    {
     "name": "stdout",
     "output_type": "stream",
     "text": [
      "30\n"
     ]
    }
   ],
   "source": [
    "from random import randint\n",
    "print(randint(22,30))"
   ]
  },
  {
   "cell_type": "code",
   "execution_count": null,
   "id": "6258ecdf",
   "metadata": {},
   "outputs": [],
   "source": [
    "def factorial()"
   ]
  },
  {
   "cell_type": "code",
   "execution_count": 13,
   "id": "48b120d3",
   "metadata": {},
   "outputs": [
    {
     "name": "stdout",
     "output_type": "stream",
     "text": [
      "Python\n",
      "DataScience\n",
      "DataScience\n"
     ]
    }
   ],
   "source": [
    "global_lang = 'DataScience'\n",
    "\n",
    "def var_scope_test():\n",
    "    local_lang = 'Python'\n",
    "    print(local_lang)\n",
    "    print(global_lang)\n",
    "\n",
    "var_scope_test()\n",
    "# Output 'Python'\n",
    "\n",
    "# outside of function\n",
    "print(global_lang)\n",
    "# Output 'DataScience'\n"
   ]
  },
  {
   "cell_type": "code",
   "execution_count": 25,
   "id": "1aa45ae4",
   "metadata": {},
   "outputs": [
    {
     "name": "stdout",
     "output_type": "stream",
     "text": [
      "value of x inside inner function is : 700\n",
      "value of x inside outer function is : 700\n"
     ]
    }
   ],
   "source": [
    "def outer_func():\n",
    "    \n",
    "    x = 777\n",
    "     \n",
    "\n",
    "    def inner_func():\n",
    "        # local variable now acts as global variable\n",
    "        nonlocal x\n",
    "        x = 700\n",
    "        print(\"value of x inside inner function is :\", x)\n",
    "\n",
    "    inner_func()\n",
    "    print(\"value of x inside outer function is :\", x)\n",
    "\n",
    "outer_func()"
   ]
  },
  {
   "cell_type": "code",
   "execution_count": 24,
   "id": "c3c4838c",
   "metadata": {},
   "outputs": [
    {
     "data": {
      "text/plain": [
       "4"
      ]
     },
     "execution_count": 24,
     "metadata": {},
     "output_type": "execute_result"
    }
   ],
   "source": [
    "4*(2-1)"
   ]
  },
  {
   "cell_type": "code",
   "execution_count": 7,
   "id": "fd6c8a62",
   "metadata": {},
   "outputs": [
    {
     "name": "stdout",
     "output_type": "stream",
     "text": [
      "4\n"
     ]
    }
   ],
   "source": [
    "def sums(a,b):\n",
    "    if a>b:\n",
    "        if (a%2==0) and (b%2==0):\n",
    "            print(b)\n",
    "        else:\n",
    "            print(a)\n",
    "    else:\n",
    "        print(b)\n",
    "        \n",
    "sums(6,4)\n",
    "        \n",
    "            "
   ]
  },
  {
   "cell_type": "code",
   "execution_count": 9,
   "id": "6107bc62",
   "metadata": {},
   "outputs": [
    {
     "name": "stdout",
     "output_type": "stream",
     "text": [
      "{2: None, 3: None, 4: None, 5: None, 6: None, 7: None, 9: None}\n"
     ]
    }
   ],
   "source": [
    "list_1=(2,2,3,4,5,5,6,7,6,3,9)\n",
    "mylist =dict.fromkeys(list_1)\n",
    "print(mylist)"
   ]
  },
  {
   "cell_type": "code",
   "execution_count": 10,
   "id": "131e96f4",
   "metadata": {},
   "outputs": [
    {
     "name": "stdout",
     "output_type": "stream",
     "text": [
      "[2, 3, 4, 5, 6, 7, 9]\n"
     ]
    }
   ],
   "source": [
    "list_1=(2,2,3,4,5,5,6,7,6,3,9)\n",
    "mylist =sorted(set(list_1))\n",
    "print(mylist)\n"
   ]
  },
  {
   "cell_type": "code",
   "execution_count": 14,
   "id": "a61e3e05",
   "metadata": {},
   "outputs": [
    {
     "name": "stdout",
     "output_type": "stream",
     "text": [
      "[2, 3, 4, 5, 6, 7, 9]\n"
     ]
    }
   ],
   "source": [
    "list_1=(2,2,3,4,5,5,6,7,6,3,9)\n",
    "mylist=[]\n",
    "for x in list_1:\n",
    "    if x not in mylist:\n",
    "        mylist.append(x)#shame on me\n",
    "print(mylist)"
   ]
  },
  {
   "cell_type": "code",
   "execution_count": 18,
   "id": "6959d9eb",
   "metadata": {},
   "outputs": [
    {
     "name": "stdout",
     "output_type": "stream",
     "text": [
      "[2, 2, 3, 4, 5, 5, 6, 7, 6, 3, 9]\n"
     ]
    }
   ],
   "source": [
    "list_1=(2,2,3,4,5,5,6,7,6,3,9)\n",
    "mylist1=[]\n",
    "mylist = list(filter(lambda x:x in list_1 not in mylist1,list_1))\n",
    "print(mylist)"
   ]
  },
  {
   "cell_type": "code",
   "execution_count": 3,
   "id": "514895b4",
   "metadata": {},
   "outputs": [
    {
     "data": {
      "text/plain": [
       "30"
      ]
     },
     "execution_count": 3,
     "metadata": {},
     "output_type": "execute_result"
    }
   ],
   "source": [
    "\n",
    "def fun1(a):\n",
    "    return a + 25\n",
    "\n",
    "fun1(5)\n"
   ]
  },
  {
   "cell_type": "code",
   "execution_count": 8,
   "id": "585f6aed",
   "metadata": {},
   "outputs": [
    {
     "name": "stdout",
     "output_type": "stream",
     "text": [
      "false\n"
     ]
    }
   ],
   "source": [
    "#function that return true if both beginning letters are true\n",
    "def Samelet(a,b):\n",
    "    if a+b==20:\n",
    "        print(\"true\")\n",
    "    elif a==20 or b ==20:\n",
    "        print(\"true\")\n",
    "    else:\n",
    "        print(\"false\")\n",
    "Samelet(15,8)\n",
    "    "
   ]
  },
  {
   "cell_type": "code",
   "execution_count": 53,
   "id": "0476b727",
   "metadata": {},
   "outputs": [
    {
     "name": "stdout",
     "output_type": "stream",
     "text": [
      "Guess a magic number between 0 and 100  10\n",
      "too low\n",
      "Guess a magic number between 0 and 100  30\n",
      "too low\n",
      "Guess a magic number between 0 and 100  40\n",
      "too low\n",
      "Guess a magic number between 0 and 100  60\n",
      "too low\n",
      "Guess a magic number between 0 and 100  80\n",
      "too high\n",
      "Guess a magic number between 0 and 100  70\n",
      "too high\n",
      "Guess a magic number between 0 and 100  65\n",
      "too low\n",
      "Guess a magic number between 0 and 100  7\n",
      "too low\n",
      "Guess a magic number between 0 and 100  77\n",
      "too high\n",
      "Guess a magic number between 0 and 100  67\n",
      "too low\n",
      "Guess a magic number between 0 and 100  68\n",
      "too low\n",
      "Guess a magic number between 0 and 100  69\n",
      "correct\n"
     ]
    }
   ],
   "source": [
    "from random import randint\n",
    "def Guessing():\n",
    "    \n",
    "    num = randint(0,100)\n",
    "    \n",
    "    while True:  \n",
    "        x = int(input(\"Guess a magic number between 0 and 100  \"))\n",
    "\n",
    "        if x> num:\n",
    "            print(\"too high\")\n",
    "            continue\n",
    "        elif x<num:\n",
    "            print(\"too low\")\n",
    "            continue\n",
    "        else:\n",
    "            print(\"correct\")\n",
    "            break\n",
    "    \n",
    "    \n",
    "Guessing()\n",
    "    \n",
    "    "
   ]
  },
  {
   "cell_type": "code",
   "execution_count": 67,
   "id": "a52644f3",
   "metadata": {},
   "outputs": [
    {
     "data": {
      "text/plain": [
       "'L'"
      ]
     },
     "execution_count": 67,
     "metadata": {},
     "output_type": "execute_result"
    }
   ],
   "source": [
    "def Cap(name):\n",
    "    new=list(name)\n",
    "    for x in new:\n",
    "        return new[3].capitalize()\n",
    "Cap(\"molly\")\n",
    "    "
   ]
  },
  {
   "cell_type": "code",
   "execution_count": 69,
   "id": "7864140a",
   "metadata": {},
   "outputs": [
    {
     "data": {
      "text/plain": [
       "'L'"
      ]
     },
     "execution_count": 69,
     "metadata": {},
     "output_type": "execute_result"
    }
   ],
   "source": [
    "def Cap(name):\n",
    "    for x in name:\n",
    "        return name[3].capitalize()\n",
    "Cap(\"molly\")"
   ]
  },
  {
   "cell_type": "code",
   "execution_count": 73,
   "id": "7c17a112",
   "metadata": {},
   "outputs": [
    {
     "data": {
      "text/plain": [
       "'MacDonalds'"
      ]
     },
     "execution_count": 73,
     "metadata": {},
     "output_type": "execute_result"
    }
   ],
   "source": [
    "def cap(name):\n",
    "    results=\"\"\n",
    "    for a,b in enumerate(name):\n",
    "        if a==0 or a==3:\n",
    "            results+=b.upper()\n",
    "            \n",
    "        else:\n",
    "            results+=b\n",
    "    return results\n",
    "cap(\"macdonalds\")"
   ]
  },
  {
   "cell_type": "code",
   "execution_count": 92,
   "id": "f8d87315",
   "metadata": {},
   "outputs": [
    {
     "data": {
      "text/plain": [
       "['dead', 'living', 'claudia', 'krishna']"
      ]
     },
     "execution_count": 92,
     "metadata": {},
     "output_type": "execute_result"
    }
   ],
   "source": [
    "def rev(name):\n",
    "    write=name.split()\n",
    "    return write[::-1]\n",
    "rev(\"krishna claudia living dead\")"
   ]
  },
  {
   "cell_type": "code",
   "execution_count": 106,
   "id": "5bb553b8",
   "metadata": {},
   "outputs": [
    {
     "data": {
      "text/plain": [
       "'level another On'"
      ]
     },
     "execution_count": 106,
     "metadata": {},
     "output_type": "execute_result"
    }
   ],
   "source": [
    "def rev(name):\n",
    "    write=name.split()\n",
    "    #step sizing= [::-1]\n",
    "    write = write[::-1]\n",
    "    return \" \".join(write)\n",
    "rev(\"On another level\")\n",
    "    "
   ]
  },
  {
   "cell_type": "code",
   "execution_count": 20,
   "id": "66efcc16",
   "metadata": {},
   "outputs": [
    {
     "name": "stdout",
     "output_type": "stream",
     "text": [
      "the number being summed up is 89\n",
      "17\n"
     ]
    }
   ],
   "source": [
    "from random import randint\n",
    "def Sumup():\n",
    "    x= randint(1,100)\n",
    "    print(f\"the number being summed up is {x}\")\n",
    "    list1=[int(y) for y in str(x)]#we convert into strings because slicing and indexing is not possible in int and float\n",
    "    summ= sum(list1)\n",
    "    print(summ)\n",
    "Sumup()\n",
    "    \n"
   ]
  },
  {
   "cell_type": "code",
   "execution_count": 35,
   "id": "25a0f852",
   "metadata": {},
   "outputs": [
    {
     "name": "stdout",
     "output_type": "stream",
     "text": [
      "Type your number here 456\n",
      "you are out of range\n"
     ]
    }
   ],
   "source": [
    "from random import randint\n",
    "def Sumup():\n",
    "    \n",
    "    x= int(input(\"Type your number here \"))\n",
    "    if(x>1 and x<=100):\n",
    "            list1=[int(y) for y in str(x)]\n",
    "            summ= sum(list1)\n",
    "            print(summ)\n",
    "    else:\n",
    "        print(\"you are out of range\")\n",
    "Sumup()\n",
    "    "
   ]
  },
  {
   "cell_type": "code",
   "execution_count": 50,
   "id": "5342c608",
   "metadata": {},
   "outputs": [],
   "source": [
    "def Arr(list1):\n",
    "    for len(x) in list1:\n",
    "        if(x[3]==3)and ( x[4]==3):\n",
    "            return True\n",
    "        else:\n",
    "            return False\n",
    "        #cap"
   ]
  },
  {
   "cell_type": "markdown",
   "id": "80235ad9",
   "metadata": {},
   "source": [
    "# PYTHON EXERCISES"
   ]
  },
  {
   "cell_type": "code",
   "execution_count": 16,
   "id": "80ad39e0",
   "metadata": {},
   "outputs": [
    {
     "name": "stdout",
     "output_type": "stream",
     "text": [
      " josphasito   27\n"
     ]
    }
   ],
   "source": [
    "def Displaynames(name,age):\n",
    "    print( name +\" \"+age )\n",
    "Displaynames(\" josphasito \",\" 27\")"
   ]
  },
  {
   "cell_type": "code",
   "execution_count": 3,
   "id": "2c3f4779",
   "metadata": {},
   "outputs": [
    {
     "name": "stdout",
     "output_type": "stream",
     "text": [
      "20\n",
      "20\n",
      "40\n"
     ]
    }
   ],
   "source": [
    "def Varlength(*args):\n",
    "    for x in args:\n",
    "         print(x)\n",
    "Varlength(20,20,40)\n",
    "    \n",
    "    "
   ]
  },
  {
   "cell_type": "code",
   "execution_count": 7,
   "id": "a3a51159",
   "metadata": {},
   "outputs": [
    {
     "data": {
      "text/plain": [
       "(60, 20)"
      ]
     },
     "execution_count": 7,
     "metadata": {},
     "output_type": "execute_result"
    }
   ],
   "source": [
    "def calculation(a,b):\n",
    "    add=a+b\n",
    "    minu= a-b\n",
    "    return add , minu\n",
    "calculation(40,20)\n"
   ]
  },
  {
   "cell_type": "code",
   "execution_count": 15,
   "id": "84fb09b9",
   "metadata": {},
   "outputs": [
    {
     "name": "stdout",
     "output_type": "stream",
     "text": [
      "Name:  Mark  Salary: 12000\n",
      "Name:  mark  Salary: 9000\n"
     ]
    }
   ],
   "source": [
    "def show_employee(name,salary=9000):\n",
    "    print(\"Name: \", name , \" Salary:\",salary)\n",
    "show_employee(\"Mark\",12000)\n",
    "show_employee(\"mark\")"
   ]
  },
  {
   "cell_type": "code",
   "execution_count": 22,
   "id": "e59adeed",
   "metadata": {},
   "outputs": [
    {
     "name": "stdout",
     "output_type": "stream",
     "text": [
      "20\n"
     ]
    }
   ],
   "source": [
    "def outer_fun(a, b):\n",
    "    \n",
    "\n",
    "    # inner function\n",
    "    def addition(a, b):\n",
    "        return a + b\n",
    "\n",
    "    # call inner function from outer function\n",
    "    add = addition(a, b)\n",
    "    # add 5 to the result\n",
    "    return add + 5\n",
    "\n",
    "result = outer_fun(5, 10)\n",
    "print(result) "
   ]
  },
  {
   "cell_type": "code",
   "execution_count": 36,
   "id": "62a07481",
   "metadata": {},
   "outputs": [
    {
     "data": {
      "text/plain": [
       "55"
      ]
     },
     "execution_count": 36,
     "metadata": {},
     "output_type": "execute_result"
    }
   ],
   "source": [
    "def recurse():#recursion\n",
    "    add=0\n",
    "    list_1= list(range(0,11))\n",
    "    for i in list_1:\n",
    "        \n",
    "        add=add+i\n",
    "    return add\n",
    "recurse()\n",
    "        "
   ]
  },
  {
   "cell_type": "code",
   "execution_count": 37,
   "id": "1d53dd34",
   "metadata": {},
   "outputs": [
    {
     "name": "stdout",
     "output_type": "stream",
     "text": [
      "55\n"
     ]
    }
   ],
   "source": [
    "# the above code for the real answer\n",
    "def addition(num):\n",
    "    if num:\n",
    "        # call same function by reducing number by 1\n",
    "        return num + addition(num - 1)\n",
    "    else:\n",
    "        return 0\n",
    "\n",
    "res = addition(10)\n",
    "print(res)\n"
   ]
  },
  {
   "cell_type": "code",
   "execution_count": 3,
   "id": "c29bca8c",
   "metadata": {},
   "outputs": [
    {
     "name": "stdout",
     "output_type": "stream",
     "text": [
      "The factorial of 1 is 1\n"
     ]
    }
   ],
   "source": [
    "def factorial(x):\n",
    "    \"\"\"This is a recursive function\n",
    "    to find the factorial of an integer\"\"\"\n",
    "\n",
    "    if x == 0 :\n",
    "        return 1\n",
    "    else:\n",
    "        return (x * factorial(x-1))\n",
    "\n",
    "\n",
    "num = 1\n",
    "print(\"The factorial of\", num, \"is\", factorial(num))"
   ]
  },
  {
   "cell_type": "code",
   "execution_count": 15,
   "id": "342729b9",
   "metadata": {},
   "outputs": [
    {
     "name": "stdout",
     "output_type": "stream",
     "text": [
      "Telvin 25\n"
     ]
    }
   ],
   "source": [
    "def Displaystud(name,age):\n",
    "    print(name,age)\n",
    "#Displaystud(\"Telvin\",25)\n",
    "Showstud = Displaystud\n",
    "Showstud(\"Telvin\",25)"
   ]
  },
  {
   "cell_type": "code",
   "execution_count": 46,
   "id": "f5d6ec74",
   "metadata": {},
   "outputs": [
    {
     "name": "stdout",
     "output_type": "stream",
     "text": [
      "[4, 6, 8, 10, 12, 14, 16, 18, 20, 22, 24, 26, 28]\n"
     ]
    }
   ],
   "source": [
    "#Generate a python list\n",
    "def Listing():\n",
    "    list_1 =[]\n",
    "    list_2 = list(range(4,30))\n",
    "    \n",
    "    for x in list_2:\n",
    "        if (x%2==0):\n",
    "             list_1.append(x)\n",
    "    print(list_1)\n",
    "Listing()\n"
   ]
  },
  {
   "cell_type": "code",
   "execution_count": 41,
   "id": "9bd45afb",
   "metadata": {},
   "outputs": [
    {
     "name": "stdout",
     "output_type": "stream",
     "text": [
      "[4, 6, 8, 10, 12, 14, 16, 18, 20, 22, 24, 26, 28]\n"
     ]
    }
   ],
   "source": [
    "def list1(num):\n",
    "    list2= list(range(4,num,2))\n",
    "    print (list2)\n",
    "list1(30)"
   ]
  },
  {
   "cell_type": "code",
   "execution_count": 47,
   "id": "10935657",
   "metadata": {},
   "outputs": [],
   "source": [
    "def largest(nums):\n",
    "    max_num = max(nums)\n",
    "    print(max_num)\n",
    "    \n",
    "#or\n",
    "\n",
    "       \n",
    "        "
   ]
  },
  {
   "cell_type": "code",
   "execution_count": 48,
   "id": "21e6ad90",
   "metadata": {},
   "outputs": [
    {
     "name": "stdout",
     "output_type": "stream",
     "text": [
      "24\n"
     ]
    }
   ],
   "source": [
    "largest([4, 6, 8, 24, 12, 2])"
   ]
  },
  {
   "cell_type": "code",
   "execution_count": 49,
   "id": "bb04247f",
   "metadata": {},
   "outputs": [],
   "source": [
    "def largest(list1):\n",
    "    largestint =list1[0]\n",
    "    for x in range(0,len(list1)):\n",
    "        if largestint< list1[x]:\n",
    "            largestint= list1[x]\n",
    "    print(largestint)"
   ]
  },
  {
   "cell_type": "code",
   "execution_count": 50,
   "id": "65ce589d",
   "metadata": {},
   "outputs": [
    {
     "name": "stdout",
     "output_type": "stream",
     "text": [
      "24\n"
     ]
    }
   ],
   "source": [
    "largest([4, 6, 8, 24, 12, 2])"
   ]
  },
  {
   "cell_type": "code",
   "execution_count": 8,
   "id": "5c61092f",
   "metadata": {},
   "outputs": [],
   "source": [
    "def characters(str1):\n",
    "    list1 = list(str1)\n",
    "    for x in list1:\n",
    "        print(x*3,end=\"\")"
   ]
  },
  {
   "cell_type": "code",
   "execution_count": 9,
   "id": "38c6b789",
   "metadata": {},
   "outputs": [
    {
     "name": "stdout",
     "output_type": "stream",
     "text": [
      "mmmiiisssiiipppiii"
     ]
    }
   ],
   "source": [
    "characters(\"misipi\")"
   ]
  },
  {
   "cell_type": "code",
   "execution_count": null,
   "id": "90014ea3",
   "metadata": {},
   "outputs": [],
   "source": [
    "def classification():\n",
    "    intake = float(input(\"Enter an Amount in double: \"))\n",
    "    dollars = (1,0.25,0.10,0.05,0.01)\n",
    "    list2 =(Dollars,)\n",
    "    for x in dollars:\n",
    "        count = intake//x\n",
    "        print(\"the amount is :\" ,x , '\\tproduce : ',count)\n",
    "        intake = intake%x\n",
    "\n",
    "         \n",
    "    \n",
    "    \n",
    "    \n",
    "    "
   ]
  },
  {
   "cell_type": "code",
   "execution_count": null,
   "id": "9e9220ee",
   "metadata": {},
   "outputs": [],
   "source": [
    "classification()"
   ]
  },
  {
   "cell_type": "code",
   "execution_count": 5,
   "id": "0b38435f",
   "metadata": {},
   "outputs": [],
   "source": [
    "def classification():\n",
    "    intake = float(input(\"Enter an Amount in double: \"))\n",
    "    dollars = (1,0.25,0.10,0.05,0.01)\n",
    "    for x in dollars:\n",
    "        count = intake//x\n",
    "        print(\"the amount is :\" ,x, '\\tproduce : ',count)\n",
    "        intake = intake%x\n",
    "\n",
    "         "
   ]
  },
  {
   "cell_type": "code",
   "execution_count": 6,
   "id": "3636b92c",
   "metadata": {},
   "outputs": [
    {
     "name": "stdout",
     "output_type": "stream",
     "text": [
      "Enter an Amount in double: 11.56\n",
      "the amount is : 1 \tproduce :  11.0\n",
      "the amount is : 0.25 \tproduce :  2.0\n",
      "the amount is : 0.1 \tproduce :  0.0\n",
      "the amount is : 0.05 \tproduce :  1.0\n",
      "the amount is : 0.01 \tproduce :  1.0\n"
     ]
    }
   ],
   "source": [
    "classification()"
   ]
  },
  {
   "cell_type": "code",
   "execution_count": 4,
   "id": "4a5686d2",
   "metadata": {},
   "outputs": [
    {
     "name": "stdout",
     "output_type": "stream",
     "text": [
      "0.9700000000000006\n"
     ]
    }
   ],
   "source": [
    "def cards() "
   ]
  },
  {
   "cell_type": "code",
   "execution_count": null,
   "id": "04ec0d40",
   "metadata": {},
   "outputs": [],
   "source": []
  }
 ],
 "metadata": {
  "kernelspec": {
   "display_name": "Python 3 (ipykernel)",
   "language": "python",
   "name": "python3"
  },
  "language_info": {
   "codemirror_mode": {
    "name": "ipython",
    "version": 3
   },
   "file_extension": ".py",
   "mimetype": "text/x-python",
   "name": "python",
   "nbconvert_exporter": "python",
   "pygments_lexer": "ipython3",
   "version": "3.9.7"
  }
 },
 "nbformat": 4,
 "nbformat_minor": 5
}
